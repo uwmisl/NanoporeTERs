{
 "cells": [
  {
   "cell_type": "code",
   "execution_count": null,
   "metadata": {
    "ExecuteTime": {
     "end_time": "2018-08-25T23:20:00.890093Z",
     "start_time": "2018-08-25T23:19:56.463266Z"
    }
   },
   "outputs": [],
   "source": [
    "% matplotlib inline\n",
    "% load_ext autoreload\n",
    "% autoreload 2\n",
    "import h5py\n",
    "import numpy as np\n",
    "import re\n",
    "import gc\n",
    "import os\n",
    "from matplotlib import pyplot as plt\n",
    "from matplotlib import ticker\n",
    "import seaborn as sns\n",
    "sns.set_style(\"whitegrid\")\n",
    "\n",
    "import os, sys\n",
    "sys.path.append(os.path.join(os.path.dirname(os.getcwd()), \"pore_utils\"))\n",
    "import pore_segmenter\n",
    "from batch_segmentation_hmm_dask import *\n",
    "import plot_captures\n",
    "\n",
    "sys.path.append(os.path.dirname(os.getcwd()))\n",
    "from pore_utils import raw_signal_utils\n",
    "from pore_utils import peptide_segmentation as pepseg\n",
    "from pore_utils.yaml_assistant import YAMLAssistant\n",
    "\n",
    "import peptide_filter_utils as pepfilter\n",
    "from NTER_CNN import *\n",
    "\n",
    "import peptide_quantifier_utils as pepquant\n",
    "import json"
   ]
  },
  {
   "cell_type": "markdown",
   "metadata": {},
   "source": [
    "# Load run configuration"
   ]
  },
  {
   "cell_type": "code",
   "execution_count": null,
   "metadata": {
    "ExecuteTime": {
     "end_time": "2018-08-25T23:20:00.940511Z",
     "start_time": "2018-08-25T23:20:00.896448Z"
    }
   },
   "outputs": [],
   "source": [
    "date = \"INSERT_DATE\"\n",
    "flowcell = \"INSERT_FLOWCELL\"\n",
    "config_file = os.path.join(os.path.dirname(os.getcwd()), \"configs/segment_%s_%s.yml\" % (date, flowcell))"
   ]
  },
  {
   "cell_type": "markdown",
   "metadata": {},
   "source": [
    "## Parse multi-experiment fast5 file"
   ]
  },
  {
   "cell_type": "markdown",
   "metadata": {},
   "source": [
    "Splits bulk fast5 based on run partitions. Make sure to change temp file name if running multiple experiment notebooks in parallel so they will not overwrite each other!"
   ]
  },
  {
   "cell_type": "code",
   "execution_count": null,
   "metadata": {
    "ExecuteTime": {
     "end_time": "2018-08-25T23:20:01.219633Z",
     "start_time": "2018-08-25T23:20:00.945567Z"
    },
    "scrolled": true
   },
   "outputs": [],
   "source": [
    "raw_signal_utils.split_multi_fast5(config_file, temp_f5_fname=\"/disk1/pore_data/temp2.f5\")"
   ]
  },
  {
   "cell_type": "code",
   "execution_count": null,
   "metadata": {
    "ExecuteTime": {
     "end_time": "2018-08-01T16:34:42.985013Z",
     "start_time": "2018-08-01T16:34:42.083297Z"
    },
    "scrolled": true
   },
   "outputs": [],
   "source": [
    "y = YAMLAssistant(config_file)"
   ]
  },
  {
   "cell_type": "markdown",
   "metadata": {},
   "source": [
    "## What's in these runs?"
   ]
  },
  {
   "cell_type": "markdown",
   "metadata": {},
   "source": [
    "Plots example traces from each run partition."
   ]
  },
  {
   "cell_type": "code",
   "execution_count": null,
   "metadata": {
    "ExecuteTime": {
     "end_time": "2018-08-01T16:34:43.035534Z",
     "start_time": "2018-08-01T16:34:42.991101Z"
    }
   },
   "outputs": [],
   "source": [
    "plt.ioff()\n",
    "show_plot_here = True\n",
    "fast5_dir = y.get_variable(\"fast5:dir\")\n",
    "fast5_prefix = y.get_variable(\"fast5:prefix\")\n",
    "fast5_fnames = y.get_variable(\"fast5:names\")"
   ]
  },
  {
   "cell_type": "code",
   "execution_count": null,
   "metadata": {
    "ExecuteTime": {
     "end_time": "2018-08-01T16:36:00.311836Z",
     "start_time": "2018-08-01T16:34:43.040697Z"
    },
    "scrolled": true
   },
   "outputs": [],
   "source": [
    "try:\n",
    "    os.makedirs(\"../plots/%s/raw\" % date)\n",
    "except:\n",
    "    pass\n",
    "\n",
    "for run, fast5_fname in sorted(fast5_fnames.iteritems()):\n",
    "    f5 = h5py.File(os.path.join(fast5_dir, fast5_prefix + fast5_fname))\n",
    "    channels_present = [int(re.findall(r\"Channel_(\\d+)\", str(x))[0])\n",
    "                        for x in f5.get(\"/Raw\").values()]\n",
    "    for channel_no in sorted(channels_present)[:10]:\n",
    "        channel = \"Channel_%s\" % str(channel_no)\n",
    "        signal = raw_signal_utils.get_scaled_raw_for_channel(\n",
    "            f5, channel=channel)\n",
    "        source = run + \".\" + channel\n",
    "        print source\n",
    "        if np.std(signal) < 50:\n",
    "            continue\n",
    "\n",
    "        for chunk_i, chunk_start in enumerate(range(0, len(signal), 500000)[:3]):\n",
    "            chunk_end = np.min([len(signal), chunk_start + 500000])\n",
    "            fig, ax = plt.subplots(figsize=(75, 6))\n",
    "            ax.plot(range(chunk_start, chunk_end),\n",
    "                    signal[chunk_start:chunk_end], color=\"black\")\n",
    "            ax.set_title(source + \"_chunk_%d\" % chunk_i)\n",
    "            ax.get_xaxis().set_minor_locator(ticker.AutoMinorLocator())\n",
    "            ax.get_yaxis().set_minor_locator(ticker.AutoMinorLocator())\n",
    "            ax.grid(b=True, which='major', color='grey', linewidth=1.0)\n",
    "            ax.grid(b=True, which='minor', color='lightgrey', linewidth=0.5)\n",
    "            fig.tight_layout()\n",
    "            if show_plot_here:\n",
    "                plt.show()\n",
    "            try:\n",
    "                fig.savefig(\"../plots/%s/raw/%s_%s_%s_chunk_%d.png\" %\n",
    "                            (date, date, run, channel, chunk_i))\n",
    "            except OverflowError:\n",
    "                pass\n",
    "            fig.clf()\n",
    "            plt.close()\n",
    "            gc.collect()\n",
    "plt.ion()"
   ]
  },
  {
   "cell_type": "markdown",
   "metadata": {},
   "source": [
    "# Find good channels"
   ]
  },
  {
   "cell_type": "markdown",
   "metadata": {},
   "source": [
    "Writes good channels to config file."
   ]
  },
  {
   "cell_type": "code",
   "execution_count": null,
   "metadata": {
    "ExecuteTime": {
     "end_time": "2018-08-01T16:42:31.195290Z",
     "start_time": "2018-08-01T16:36:00.316128Z"
    },
    "scrolled": true
   },
   "outputs": [],
   "source": [
    "signal_priors = y.get_variable(\"segmentation_params:signal_priors\")\n",
    "prior_open_pore = signal_priors.get(\"prior_open_pore_mean\")\n",
    "prior_open_pore_std = signal_priors.get(\"prior_open_pore_std\")\n",
    "\n",
    "from plot_utils import make_cmap\n",
    "cmap = make_cmap([(0.02, 0.02, 0.02), (0.7, 0.7, 0.7), (0.98, 0.98, 1)])\n",
    "\n",
    "try:\n",
    "    os.makedirs(\"../plots/%s/qc/\" % date)\n",
    "except:\n",
    "    pass\n",
    "\n",
    "# Redetermine good channels if needed\n",
    "for i, (run, name) in enumerate(fast5_fnames.iteritems()):\n",
    "    f5_fname = fast5_dir + \"/\" + fast5_prefix + name\n",
    "    print f5_fname\n",
    "    print \"Finding good channels in %s.\" % (run)\n",
    "    channel_grid, good_channels = judge_channels(f5_fname, expected_open_pore=None, plot_grid=True)\n",
    "    print \"Writing good channels to yaml file.\"\n",
    "    good_channels = [int(c) for c in good_channels]\n",
    "    y.write_variable(\"fast5:good_channels:%s\" % (run), good_channels)\n",
    "    print \"Plotting channel status.\"\n",
    "    fig, _ = plot_channel_grid(channel_grid, cmap,\n",
    "                               title=\"Good channels in %s on %s\" % (run, date),\n",
    "                               cbar_minmax=(0, None))\n",
    "    fig.tight_layout()\n",
    "    fig.savefig(\"../plots/%s/qc/%s_%s_good_channels.png\" %\n",
    "                            (date, date, run))\n",
    "    display(fig)"
   ]
  },
  {
   "cell_type": "code",
   "execution_count": null,
   "metadata": {
    "ExecuteTime": {
     "end_time": "2018-08-01T16:42:32.104663Z",
     "start_time": "2018-08-01T16:42:31.199703Z"
    }
   },
   "outputs": [],
   "source": [
    "y = YAMLAssistant(config_file)"
   ]
  },
  {
   "cell_type": "markdown",
   "metadata": {},
   "source": [
    "# Find peptides"
   ]
  },
  {
   "cell_type": "code",
   "execution_count": null,
   "metadata": {
    "ExecuteTime": {
     "end_time": "2018-08-01T16:42:32.321647Z",
     "start_time": "2018-08-01T16:42:32.276138Z"
    }
   },
   "outputs": [],
   "source": [
    "open_pore_prior = y.get_variable(\"segmentation_params:signal_priors:prior_open_pore_mean\")\n",
    "open_pore_prior_std = y.get_variable(\"segmentation_params:signal_priors:prior_open_pore_std\")\n",
    "good_channels = y.get_variable(\"fast5:good_channels\")"
   ]
  },
  {
   "cell_type": "code",
   "execution_count": null,
   "metadata": {
    "ExecuteTime": {
     "end_time": "2018-08-01T16:42:32.371639Z",
     "start_time": "2018-08-01T16:42:32.326457Z"
    }
   },
   "outputs": [],
   "source": [
    "fast5_fnames_full = fast5_fnames.copy()\n",
    "for run, fname in fast5_fnames_full.iteritems():\n",
    "    fast5_fnames_full[run] = os.path.join(fast5_dir, fast5_prefix + fname)\n",
    "save_location = y.get_variable(\"segmentation_params:out_prefix\")\n",
    "min_duration_obs = y.get_variable(\"segmentation_params:min_duration_obs\")\n",
    "signal_threshold = y.get_variable(\"segmentation_params:signal_threshold\")\n",
    "voltage_threshold = -180."
   ]
  },
  {
   "cell_type": "markdown",
   "metadata": {},
   "source": [
    "Saves capture metadata in `.pkl` files."
   ]
  },
  {
   "cell_type": "code",
   "execution_count": null,
   "metadata": {
    "ExecuteTime": {
     "end_time": "2018-08-01T16:45:16.681783Z",
     "start_time": "2018-08-01T16:42:32.376534Z"
    },
    "scrolled": true
   },
   "outputs": [],
   "source": [
    "pepseg.parallel_find_peptides(\n",
    "    fast5_fnames_full, good_channels,\n",
    "    open_pore_prior, open_pore_prior_std,\n",
    "    0.7, voltage_threshold, min_duration_obs,\n",
    "    save_location=save_location,\n",
    "    save_prefix=\"%s_segmented_peptides\" % date,\n",
    "    voltage_change_delay=3,\n",
    "    n_workers=30) "
   ]
  },
  {
   "cell_type": "markdown",
   "metadata": {},
   "source": [
    "Saves raw capture data in `.npy` files."
   ]
  },
  {
   "cell_type": "code",
   "execution_count": null,
   "metadata": {
    "ExecuteTime": {
     "end_time": "2018-08-01T16:46:10.872529Z",
     "start_time": "2018-08-01T16:45:16.687994Z"
    },
    "scrolled": true
   },
   "outputs": [],
   "source": [
    "pepseg.extract_raw_data(fast5_fnames_full, df_location=save_location,\n",
    "                        df_prefix=\"%s_segmented_peptides\" % date,\n",
    "                        save_location=save_location,\n",
    "                        save_prefix=\"%s_segmented_peptides_raw_data\" % date,\n",
    "                        open_pore_prior=open_pore_prior,\n",
    "                        open_pore_prior_stdv=open_pore_prior_std)"
   ]
  },
  {
   "cell_type": "markdown",
   "metadata": {},
   "source": [
    "# Filter and Classify Peptides"
   ]
  },
  {
   "cell_type": "markdown",
   "metadata": {},
   "source": [
    "Default classifier is CNN. To use Random Forest, change `NTER_cnn` to `NTER_rf`. To filter without classifying, change to `\"\"`.\n",
    "\n",
    "Default confidence threshold is 0.95. Saves filtered and classified capture metadata in `.csv` files."
   ]
  },
  {
   "cell_type": "code",
   "execution_count": null,
   "metadata": {},
   "outputs": [],
   "source": [
    "filtered_fnames = pepfilter.filter_and_classify_peptides(date, fast5_fnames.keys(), \"NTER_general\", \"NTER_cnn\", \n",
    "                                                         conf_thresh=0.95)"
   ]
  },
  {
   "cell_type": "markdown",
   "metadata": {},
   "source": [
    "# Quantify Peptides"
   ]
  },
  {
   "cell_type": "markdown",
   "metadata": {},
   "source": [
    "Quantify peptides via two methods: time between captures (obs) and capture frequency (# of reads/pore/min). Set `time_interval` to an integer in minutes to break run into time segments when quantifying (e.g. `time_interval=5` will make a quantification every 5 min).\n",
    "\n",
    "Saves average times/frequencies for each filtered file as a dictionary in a `.json` file."
   ]
  },
  {
   "cell_type": "markdown",
   "metadata": {},
   "source": [
    "## Time Between Captures"
   ]
  },
  {
   "cell_type": "code",
   "execution_count": null,
   "metadata": {},
   "outputs": [],
   "source": [
    "time_quantified_dict = {}\n",
    "for fname in filtered_fnames:\n",
    "    time = pepquant.get_time_between_captures(fname, time_interval=None)\n",
    "    print \"Time Between Captures:\"\n",
    "    print time\n",
    "    time_quantified_dict[fname] = time\n",
    "    print \"Estimated Conc in uM:\"\n",
    "    print [pepquant.NTER_time_fit(x) for x in time]\n",
    "    print\n",
    "    print"
   ]
  },
  {
   "cell_type": "code",
   "execution_count": null,
   "metadata": {},
   "outputs": [],
   "source": [
    "json.dump(time_quantified_dict, \n",
    "          file(os.path.join(os.path.dirname(os.getcwd()),\"peptide_conc/experiment_%s_%s_time.json\" % (date, flowcell)), \"w\"))"
   ]
  },
  {
   "cell_type": "markdown",
   "metadata": {},
   "source": [
    "## Capture Frequency"
   ]
  },
  {
   "cell_type": "code",
   "execution_count": null,
   "metadata": {},
   "outputs": [],
   "source": [
    "freq_quantified_dict = {}\n",
    "for fname in filtered_fnames:\n",
    "    freq = pepquant.get_capture_freq(fname, time_interval=None)\n",
    "    print \"Capture Frequency:\"\n",
    "    print freq\n",
    "    freq_quantified_dict[fname] = freq\n",
    "    print \"Estimated Conc in uM:\"\n",
    "    print [pepquant.NTER_freq_fit(x) for x in freq]\n",
    "    print\n",
    "    print"
   ]
  },
  {
   "cell_type": "code",
   "execution_count": null,
   "metadata": {},
   "outputs": [],
   "source": [
    "json.dump(freq_quantified_dict, \n",
    "          file(os.path.join(os.path.dirname(os.getcwd()),\"peptide_conc/experiment_%s_%s_freq.json\" % (date, flowcell)), \"w\"))"
   ]
  }
 ],
 "metadata": {
  "kernelspec": {
   "display_name": "Python 2",
   "language": "python",
   "name": "python2"
  },
  "language_info": {
   "codemirror_mode": {
    "name": "ipython",
    "version": 2
   },
   "file_extension": ".py",
   "mimetype": "text/x-python",
   "name": "python",
   "nbconvert_exporter": "python",
   "pygments_lexer": "ipython2",
   "version": "2.7.16"
  },
  "notify_time": "10",
  "toc": {
   "nav_menu": {},
   "number_sections": true,
   "sideBar": true,
   "skip_h1_title": false,
   "toc_cell": false,
   "toc_position": {
    "height": "382px",
    "left": "0px",
    "right": "846.892px",
    "top": "136px",
    "width": "212px"
   },
   "toc_section_display": "block",
   "toc_window_display": false
  },
  "varInspector": {
   "cols": {
    "lenName": 16,
    "lenType": 16,
    "lenVar": 40
   },
   "kernels_config": {
    "python": {
     "delete_cmd_postfix": "",
     "delete_cmd_prefix": "del ",
     "library": "var_list.py",
     "varRefreshCmd": "print(var_dic_list())"
    },
    "r": {
     "delete_cmd_postfix": ") ",
     "delete_cmd_prefix": "rm(",
     "library": "var_list.r",
     "varRefreshCmd": "cat(var_dic_list()) "
    }
   },
   "position": {
    "height": "362px",
    "left": "816.667px",
    "right": "20px",
    "top": "121px",
    "width": "350px"
   },
   "types_to_exclude": [
    "module",
    "function",
    "builtin_function_or_method",
    "instance",
    "_Feature"
   ],
   "window_display": false
  }
 },
 "nbformat": 4,
 "nbformat_minor": 2
}
