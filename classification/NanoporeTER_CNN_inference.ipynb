{
 "cells": [
  {
   "cell_type": "code",
   "execution_count": 1,
   "metadata": {
    "ExecuteTime": {
     "end_time": "2019-09-18T05:08:16.831669Z",
     "start_time": "2019-09-18T05:08:13.477201Z"
    }
   },
   "outputs": [],
   "source": [
    "import matplotlib.pyplot as plt\n",
    "import seaborn as sns\n",
    "import numpy as np\n",
    "from sklearn.model_selection import train_test_split\n",
    "import torch\n",
    "import torchvision\n",
    "import torchvision.transforms as transforms\n",
    "import torch.nn as nn\n",
    "import torch.nn.functional as F\n",
    "import torch.optim as optim\n",
    "import random\n",
    "import math as m\n",
    "import warnings\n",
    "warnings.filterwarnings('ignore')"
   ]
  },
  {
   "cell_type": "code",
   "execution_count": 2,
   "metadata": {
    "ExecuteTime": {
     "end_time": "2019-09-18T05:08:16.843287Z",
     "start_time": "2019-09-18T05:08:16.837671Z"
    }
   },
   "outputs": [],
   "source": [
    "'''\n",
    "If gpu is available we will use it\n",
    "'''\n",
    "use_cuda = True"
   ]
  },
  {
   "cell_type": "code",
   "execution_count": 3,
   "metadata": {
    "ExecuteTime": {
     "end_time": "2019-09-18T05:08:16.871108Z",
     "start_time": "2019-09-18T05:08:16.847610Z"
    }
   },
   "outputs": [],
   "source": [
    "class CNN(nn.Module):\n",
    "\n",
    "    def __init__(self):\n",
    "\n",
    "        super(CNN, self).__init__()\n",
    "\n",
    "        self.conv1 = nn.Sequential(nn.Conv2d(1, O_1, K_1), nn.ReLU(),\n",
    "                                   nn.MaxPool2d(KP_1))\n",
    "\n",
    "        self.conv2 = nn.Sequential(nn.Conv2d(O_1, O_2, K_2), nn.ReLU(),\n",
    "                                   nn.MaxPool2d(KP_2))\n",
    "\n",
    "        self.conv3 = nn.Sequential(nn.Conv2d(O_2, O_3, K_3), nn.ReLU(),\n",
    "                                   nn.MaxPool2d(KP_3))\n",
    "\n",
    "        self.conv4 = nn.Sequential(nn.Conv2d(O_3, O_4, K_4), nn.ReLU(),\n",
    "                                   nn.MaxPool2d(KP_4))\n",
    "\n",
    "        self.fc1 = nn.Linear(conv_linear_out, FN_1)\n",
    "\n",
    "        self.fc2 = nn.Linear(FN_1, 10)\n",
    "\n",
    "    def forward(self, x):\n",
    "        x = x.float()\n",
    "        x = F.leaky_relu(self.conv1(x))\n",
    "        x = F.leaky_relu(self.conv2(x))\n",
    "        x = F.leaky_relu(self.conv3(x))\n",
    "        x = F.leaky_relu(self.conv4(x))\n",
    "        x = x.view(len(x), -1)\n",
    "        x = F.logsigmoid(self.fc1(x))\n",
    "        x = self.fc2(x)\n",
    "        return x"
   ]
  },
  {
   "cell_type": "code",
   "execution_count": 4,
   "metadata": {
    "ExecuteTime": {
     "end_time": "2019-09-18T05:08:19.603930Z",
     "start_time": "2019-09-18T05:08:16.875024Z"
    }
   },
   "outputs": [
    {
     "data": {
      "text/plain": [
       "CNN(\n",
       "  (conv1): Sequential(\n",
       "    (0): Conv2d(1, 17, kernel_size=(3, 3), stride=(1, 1))\n",
       "    (1): ReLU()\n",
       "    (2): MaxPool2d(kernel_size=4, stride=4, padding=0, dilation=1, ceil_mode=False)\n",
       "  )\n",
       "  (conv2): Sequential(\n",
       "    (0): Conv2d(17, 18, kernel_size=(1, 1), stride=(1, 1))\n",
       "    (1): ReLU()\n",
       "    (2): MaxPool2d(kernel_size=4, stride=4, padding=0, dilation=1, ceil_mode=False)\n",
       "  )\n",
       "  (conv3): Sequential(\n",
       "    (0): Conv2d(18, 32, kernel_size=(4, 4), stride=(1, 1))\n",
       "    (1): ReLU()\n",
       "    (2): MaxPool2d(kernel_size=1, stride=1, padding=0, dilation=1, ceil_mode=False)\n",
       "  )\n",
       "  (conv4): Sequential(\n",
       "    (0): Conv2d(32, 37, kernel_size=(2, 2), stride=(1, 1))\n",
       "    (1): ReLU()\n",
       "    (2): MaxPool2d(kernel_size=1, stride=1, padding=0, dilation=1, ceil_mode=False)\n",
       "  )\n",
       "  (fc1): Linear(in_features=592, out_features=148, bias=True)\n",
       "  (fc2): Linear(in_features=148, out_features=10, bias=True)\n",
       ")"
      ]
     },
     "execution_count": 4,
     "metadata": {},
     "output_type": "execute_result"
    }
   ],
   "source": [
    "# trained on Y00-Y09_plusnoise:\n",
    "#net = torch.load('/disk1/pore_data/NanoporeTERs/trained_cnn_jeff_03132019.pt')\n",
    "\n",
    "# trained on AGNPRT_plusnoise:\n",
    "net = torch.load('/disk1/pore_data/jeff_saved/NTERs_trained_cnn_05152019.pt')\n",
    "\n",
    "net.eval()"
   ]
  },
  {
   "cell_type": "code",
   "execution_count": 5,
   "metadata": {
    "ExecuteTime": {
     "end_time": "2019-09-18T05:08:20.760788Z",
     "start_time": "2019-09-18T05:08:19.606710Z"
    }
   },
   "outputs": [
    {
     "name": "stdout",
     "output_type": "stream",
     "text": [
      "(4893, 20000)\n",
      "(2000, 20000)\n",
      "Percentage not classified: 89\n",
      "20190627_dSmtNP_0_3_4_raw_windows_prediction_jeff20190917.csv created\n"
     ]
    }
   ],
   "source": [
    "'''\n",
    "testing\n",
    "'''\n",
    "\n",
    "test_data_list2 = ['20190627_dSmtNP_0_3_4_raw_windows.npy']\n",
    "\n",
    "\n",
    "# confidence threshold of whether or not to consider a prediction can be adjusted to\n",
    "conf_thresh = 0.9\n",
    "\n",
    "for file_name in test_data_list2:\n",
    "    X_test = np.load('/disk1/pore_data/NanoporeTERs/' + str(file_name))\n",
    "    file_name = file_name[:len(file_name) - 4]\n",
    "    print(np.shape(X_test))\n",
    "    \n",
    "    # you may have to adjust the number of examples you predict per iteration, depending on memory space on gpu\n",
    "    X_test = X_test[:2000, :]\n",
    "    print(np.shape(X_test))\n",
    "    X_test = X_test.reshape(\n",
    "        len(X_test), X_test.shape[1], 1)\n",
    "    X_test = X_test[:, :19881]\n",
    "    X_test = X_test.reshape(len(X_test), 1, 141, 141)\n",
    "    X_test = torch.from_numpy(X_test)\n",
    "    X_test = X_test.cuda()\n",
    "    outputs = net(X_test)\n",
    "    out = nn.functional.softmax(outputs)\n",
    "    prob, lab = torch.topk(out, 1)\n",
    "\n",
    "    non_classified = 0\n",
    "    for i in range(len(prob)):\n",
    "        if not(prob[i] >= conf_thresh):\n",
    "            non_classified += 1\n",
    "            lab[i] = -1\n",
    "\n",
    "    percent_non_classified = 100*non_classified/len(lab)\n",
    "    print('Percentage not classified: ' + str(percent_non_classified))\n",
    "    lab = lab.cpu().numpy()\n",
    "    np.savetxt('/disk1/pore_data/NanoporeTERs/predictions_updated_20190917/' + str(file_name) +\n",
    "               '_prediction_jeff20190917_confthresh_' + str(conf_thresh) + '.csv', lab, delimiter=',')\n",
    "    print(str(file_name) + '_prediction_jeff20190917.csv created')"
   ]
  },
  {
   "cell_type": "code",
   "execution_count": null,
   "metadata": {},
   "outputs": [],
   "source": []
  }
 ],
 "metadata": {
  "kernelspec": {
   "display_name": "NTER env - python 2.7",
   "language": "python",
   "name": "nter_env"
  },
  "language_info": {
   "codemirror_mode": {
    "name": "ipython",
    "version": 2
   },
   "file_extension": ".py",
   "mimetype": "text/x-python",
   "name": "python",
   "nbconvert_exporter": "python",
   "pygments_lexer": "ipython2",
   "version": "2.7.16"
  },
  "toc": {
   "base_numbering": 1,
   "nav_menu": {},
   "number_sections": true,
   "sideBar": true,
   "skip_h1_title": false,
   "title_cell": "Table of Contents",
   "title_sidebar": "Contents",
   "toc_cell": false,
   "toc_position": {},
   "toc_section_display": true,
   "toc_window_display": false
  }
 },
 "nbformat": 4,
 "nbformat_minor": 2
}
